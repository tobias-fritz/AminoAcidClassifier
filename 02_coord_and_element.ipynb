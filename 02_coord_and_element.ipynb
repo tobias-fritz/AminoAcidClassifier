{
 "cells": [
  {
   "cell_type": "markdown",
   "metadata": {},
   "source": [
    "# Applying a cnn to classify amino acids bassed on their atom types and heavy atoms"
   ]
  },
  {
   "cell_type": "code",
   "execution_count": 1,
   "metadata": {},
   "outputs": [],
   "source": [
    "import matplotlib.pyplot as plt\n",
    "import torch\n",
    "import torch.nn as nn\n",
    "import torch.optim as optim\n",
    "from torch.utils.data import DataLoader\n",
    "from torchmetrics.classification import Accuracy\n",
    "from sklearn.metrics import accuracy_score\n",
    "from src.dataset import AminoAcidDataset\n",
    "from src.model import AminoAcidCNN\n",
    "from src.train import train_model, evaluate_model"
   ]
  },
  {
   "cell_type": "markdown",
   "metadata": {},
   "source": [
    "## 1. Loading the Datset using a custom Data class\n",
    "\n",
    "\n",
    "```python\n",
    "class AminoAcidDataset(torch.utils.data.Dataset):\n",
    "    '''AminoAcidDataset class\n",
    "    \n",
    "    This class loads the amino acid dataset from a PDB file and stores the coordinates and \n",
    "    elements of each atom in the structure.\n",
    "\n",
    "    Args:\n",
    "        pdb_file (str): The path to the PDB file.\n",
    "        padding (bool): If True, the coordinates and elements will be padded \n",
    "                        to have the same length for all residues.\n",
    "    '''\n",
    "\n",
    "    def __init__(self, pdb_file: str, padding: bool=False) -> None:\n",
    "        ...\n",
    "```"
   ]
  },
  {
   "cell_type": "code",
   "execution_count": 2,
   "metadata": {},
   "outputs": [],
   "source": [
    "# Create an instance of the dataset\n",
    "dataset = AminoAcidDataset('data/amino_acids_2_0A_augmented.pdb', padding=True)\n",
    "print(f\"Number of samples: {len(dataset)}\")\n",
    "\n",
    "# Split the dataset into training and testing sets using an 80/20 split\n",
    "train_size = int(0.8 * len(dataset))\n",
    "test_size = len(dataset) - train_size\n",
    "train_dataset, test_dataset = torch.utils.data.random_split(dataset, [train_size, test_size])\n",
    "\n",
    "# Create data loaders for training and testing\n",
    "train_dataloader = DataLoader(train_dataset, batch_size=100, shuffle=True)\n",
    "test_dataloader = DataLoader(test_dataset, batch_size=100, shuffle=True)"
   ]
  },
  {
   "cell_type": "markdown",
   "metadata": {},
   "source": [
    "## 2. Initialize model and initialize"
   ]
  },
  {
   "cell_type": "code",
   "execution_count": 3,
   "metadata": {},
   "outputs": [],
   "source": [
    "N, M = dataset.input_shape\n",
    "model = AminoAcidCNN(input_channels=1, # Since we added an extra dimension for batch and channel\n",
    "                     input_height=N, # Number of atoms\n",
    "                     input_width=3+M) # 3 coordinates + 4 element types"
   ]
  },
  {
   "cell_type": "markdown",
   "metadata": {},
   "source": [
    "## 3. Train the model\n",
    "\n",
    "The training loop of the model comprises several important steps. \n",
    "A simple representation of the training loop looks like this:\n",
    "\n",
    "```python\n",
    "def train_model(...) -> dict:\n",
    "    \"\"\"Train a PyTorch model.\"\"\"\n",
    "    \n",
    "    # Iiterate the number of epochs \n",
    "    for epoch in range(n_epochs):\n",
    "        # Iterate over all the data in the training set\n",
    "        for coordinates, elements, residue in data_loader:\n",
    "            input_data = torch.cat((coordinates, elements), dim=2)\n",
    "            input_data = input_data.unsqueeze(1)\n",
    "            # 1. Calculate the results = forward passs\n",
    "            output = model(input_data)\n",
    "            # 2. Calculate the loss (using our loss function)\n",
    "            target = torch.argmax(residue, dim=1)\n",
    "            loss = criterion(output, target) \n",
    "            # 3. Optimize the model = backward pass \n",
    "            optimizer.zero_grad()  # Clear the gradients\n",
    "            loss.backward()  # Compute gradients\n",
    "            optimizer.step()  # Update model parameters\n",
    "            ...\n",
    "```\n",
    "\n",
    "Tuning the training process is central to the quality of the model"
   ]
  },
  {
   "cell_type": "code",
   "execution_count": null,
   "metadata": {},
   "outputs": [
    {
     "name": "stdout",
     "output_type": "stream",
     "text": [
      "Epoch 30/30, Loss: 2.19554\r"
     ]
    },
    {
     "data": {
      "image/png": "[encoded data removed]",
      "text/plain": [
       "<Figure size 600x240 with 1 Axes>"
      ]
     },
     "metadata": {},
     "output_type": "display_data"
    }
   ],
   "source": [
    "# Define the loss function and optimizer\n",
    "criterion = nn.CrossEntropyLoss()\n",
    "optimizer = optim.Adam(model.parameters(), lr=0.0001)\n",
    "\n",
    "# Train the models\n",
    "training_dict = train_model(model=model, criterion=criterion, optimizer=optimizer, data_loader=train_dataloader, n_epochs=30,coord_only=False)\n",
    "\n",
    "# Plot the training loss\n",
    "plt.figure(figsize=(6, 2.4))\n",
    "plt.plot(x=range(1, len(training_dict['total_loss'])+1), y=training_dict['total_loss'])\n",
    "plt.xlabel('Epoch')\n",
    "plt.ylabel('Loss')\n",
    "plt.title('Training Loss')\n",
    "plt.xlim(0, len(training_dict['total_loss'])+1)\n",
    "plt.show()"
   ]
  },
  {
   "cell_type": "markdown",
   "metadata": {},
   "source": [
    "## 4. Evaluate the model"
   ]
  },
  {
   "cell_type": "code",
   "execution_count": null,
   "metadata": {},
   "outputs": [],
   "source": []
  }
 ],
 "metadata": {
  "kernelspec": {
   "display_name": "torch_env",
   "language": "python",
   "name": "python3"
  },
  "language_info": {
   "codemirror_mode": {
    "name": "ipython",
    "version": 3
   },
   "file_extension": ".py",
   "mimetype": "text/x-python",
   "name": "python",
   "nbconvert_exporter": "python",
   "pygments_lexer": "ipython3",
   "version": "3.8.20"
  }
 },
 "nbformat": 4,
 "nbformat_minor": 2
}
