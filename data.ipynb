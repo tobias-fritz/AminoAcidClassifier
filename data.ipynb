{
 "cells": [
  {
   "cell_type": "markdown",
   "metadata": {},
   "source": [
    "# Generating the dataset from the pdb"
   ]
  },
  {
   "cell_type": "code",
   "execution_count": 1,
   "metadata": {},
   "outputs": [],
   "source": [
    "from src.data_prep import run, get_id_and_ressolution, augment_dataset, get_all_files_and_ids, download_all_pdbs\n",
    "from src.dataset import AminoAcidDataset\n",
    "from torch.utils.data import DataLoader\n",
    "import json\n",
    "import matplotlib.pyplot as plt\n",
    "import os"
   ]
  },
  {
   "cell_type": "markdown",
   "metadata": {},
   "source": [
    "## 1. Downloading and extracting resolution information from the PDBs"
   ]
  },
  {
   "cell_type": "code",
   "execution_count": 2,
   "metadata": {},
   "outputs": [],
   "source": [
    "# Downlaod \n",
    "# download_all_pdbs(\"data/all_pdbs\")"
   ]
  },
  {
   "cell_type": "code",
   "execution_count": 3,
   "metadata": {},
   "outputs": [
    {
     "name": "stdout",
     "output_type": "stream",
     "text": [
      "Found 38574 PDB files\n",
      "Batch 249/250 done in 0.2s. Estimated time remaining (min:s):           00:00\r"
     ]
    }
   ],
   "source": [
    "# Extract the saved pdb file paths and ids\n",
    "pdb_files, pdb_ids = get_all_files_and_ids()\n",
    "print(f\"Found {len(pdb_files)} PDB files\")\n",
    "\n",
    "subset_ids = pdb_ids[:10000]\n",
    "subset_files = pdb_files[:10000]\n",
    "\n",
    "pdb_resolution = get_id_and_ressolution(subset_ids, subset_files, batch_size=40)\n"
   ]
  },
  {
   "cell_type": "code",
   "execution_count": 4,
   "metadata": {},
   "outputs": [
    {
     "name": "stdout",
     "output_type": "stream",
     "text": [
      "Of the 10000 PDB files, 9117 have a resolution value\n",
      "Considering only files with a resolution of less than 6, we have 9046 files\n"
     ]
    },
    {
     "data": {
      "image/png": "[encoded data removed]",
      "text/plain": [
       "<Figure size 500x240 with 1 Axes>"
      ]
     },
     "metadata": {},
     "output_type": "display_data"
    }
   ],
   "source": [
    "print(f\"Of the {len(pdb_resolution)} PDB files, {len([k for k, v in pdb_resolution.items() if v is not None])} have a resolution value\")\n",
    "print(f\"Considering only files with a resolution of less than 6, we have {len([k for k, v in pdb_resolution.items() if v is not None and v < 6])} files\")\n",
    "\n",
    "plotable_dict = {k: v for k, v in pdb_resolution.items() if v is not None and v < 6}\n",
    "plt.figure(figsize=(5,2.4))\n",
    "plt.hist(plotable_dict.values(), bins=30)\n",
    "plt.xlim(0,6)\n",
    "plt.xlabel(\"Resolution (Å)\")\n",
    "plt.ylabel(\"Frequency\")\n",
    "plt.title(\"Resolution distribution of PDB files with resolution < 6\")\n",
    "plt.grid()\n",
    "plt.show()"
   ]
  },
  {
   "cell_type": "markdown",
   "metadata": {},
   "source": [
    "## 2. Extracting all amino acids from the PDB-files and sorting datasets with different resolutions"
   ]
  },
  {
   "cell_type": "code",
   "execution_count": null,
   "metadata": {},
   "outputs": [
    {
     "name": "stdout",
     "output_type": "stream",
     "text": [
      "Extracting amino acids with resolution < 2.0 from 3694 PDB files\n",
      "Processing 6BVJ 3694/3694\r"
     ]
    }
   ],
   "source": [
    "# Extract all amino acids at a ressolution cutoff and save to file\n",
    "def get_all_amino_acids_with_resolution(target_resolution, output_path):\n",
    "    \"\"\"Get all amino acids from pdb files with a resolution less than target_resolution and save to output_path\n",
    "\n",
    "    Args:\n",
    "        target_resolution (float): The target resolution\n",
    "        output_path (str): The path to save the amino acids to\n",
    "\n",
    "    Returns:\n",
    "        None\n",
    "    \"\"\"\n",
    "\n",
    "    # Get the pdb ids with a resolution of less than target_resolution\n",
    "    pdb_ids = {k: v for k, v in pdb_resolution.items() if v is not None and v < target_resolution}\n",
    "    # Get all pdb files where the file name contains any of the pdbids\n",
    "    pdb_files = [f for f in subset_files if any(p.upper() in f.upper() for p in pdb_ids)]\n",
    "    # Get the amino acids from the pdb files\n",
    "    pdb_info = [*zip(pdb_ids, pdb_files)]\n",
    "    # Run the amino acid extraction and save to file\n",
    "    print(f\"Extracting amino acids with resolution < {target_resolution} from {len(pdb_info)} PDB files\")\n",
    "    run(pdb_info=pdb_info, out_path=output_path ,download=True)\n",
    "\n",
    "# res cutoff 2.0\n",
    "get_all_amino_acids_with_resolution(2.0, 'data/amino_acids_2_0A.pdb')\n",
    "\n",
    "# res cutoff 1.5\n",
    "get_all_amino_acids_with_resolution(1.5, 'data/amino_acids_1_5A.pdb')\n"
   ]
  },
  {
   "cell_type": "markdown",
   "metadata": {},
   "source": [
    "## 3. Processing and augmenting the dataset\n",
    "\n",
    "Here we use go through 2 steps:\n",
    "1. We load the amino acid dataset with, raw extracted amino acids from the file\n",
    "2. We apply processing to these amino acids:\n",
    "   - In the first step the amino acids are centered at the origin\n",
    "   - In the second step if n_orientations > 1, we will apply random transformations to the residue and save n copies of the residue to augment the data."
   ]
  },
  {
   "cell_type": "code",
   "execution_count": null,
   "metadata": {},
   "outputs": [],
   "source": [
    "# Load the Dataset and create a torch Dataloader\n",
    "dataset = AminoAcidDataset('data/amino_acids_2_0A.pdb')\n",
    "dataloader = DataLoader(dataset, batch_size=1, shuffle=True)\n",
    "# Now we process the dataset using the augment_dataset function\n",
    "augment_dataset(dataset, 'data/amino_acids_2_0A_augmented.pdb',2)\n",
    "\n",
    "# Now for the 1.5 Å dataset\n",
    "dataset = AminoAcidDataset('data/amino_acids_1.5A_augmented.pdb')\n",
    "dataloader = DataLoader(dataset, batch_size=1, shuffle=True)\n",
    "augment_dataset(dataset, 'data/amino_acids_1.5A_augmented.pdb',2)"
   ]
  }
 ],
 "metadata": {
  "kernelspec": {
   "display_name": "torch_env",
   "language": "python",
   "name": "python3"
  },
  "language_info": {
   "codemirror_mode": {
    "name": "ipython",
    "version": 3
   },
   "file_extension": ".py",
   "mimetype": "text/x-python",
   "name": "python",
   "nbconvert_exporter": "python",
   "pygments_lexer": "ipython3",
   "version": "3.8.20"
  }
 },
 "nbformat": 4,
 "nbformat_minor": 2
}
